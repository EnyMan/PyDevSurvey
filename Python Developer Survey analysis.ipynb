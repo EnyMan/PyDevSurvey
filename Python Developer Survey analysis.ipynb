{
 "cells": [
  {
   "cell_type": "code",
   "execution_count": 1,
   "metadata": {},
   "outputs": [],
   "source": [
    "import pandas as pd\n",
    "import matplotlib.pyplot as plt # standard convention for importing the plotting tool\n",
    "import matplotlib\n",
    "%matplotlib inline\n",
    "matplotlib.style.use('ggplot')"
   ]
  },
  {
   "cell_type": "code",
   "execution_count": 2,
   "metadata": {},
   "outputs": [],
   "source": [
    "dt = pd.read_csv('data/pythondevsurvey2017_raw_data.csv')\n",
    "dt = dt.dropna(how='all')"
   ]
  },
  {
   "cell_type": "markdown",
   "metadata": {},
   "source": [
    "# First clean up the collumns #"
   ]
  },
  {
   "cell_type": "code",
   "execution_count": 3,
   "metadata": {},
   "outputs": [],
   "source": [
    "dt.rename(columns={'Is Python the main language you use for your current projects?':'main_language'}, inplace=True)\n",
    "dt.rename(columns={'Do you\\xa0regularly work on multiple projects at the same time?':'multiple'}, inplace=True)\n",
    "dt.rename(columns={'What country do you live in?':'country'}, inplace=True)\n",
    "purpose = '\\xa0What do you use Python for?'\n",
    "upgrade = 'What do you typically use to upgrade your Python version?'\n",
    "framework = 'What framework(s) do you use in addition to Python?'\n",
    "technology = 'What additional technology(s) do you use in addition to Python?'\n",
    "cloud = 'What cloud platform(s) do you use?'\n",
    "ide = 'What editor(s)/IDE(s) have you considered for use in your Python development?'\n",
    "job = 'Which of the following best describes your job role(s)?'\n",
    "often = 'When developing in Python, how often do you…?'\n",
    "question = 'Please think about the total number of Python Web Developers in the world and the total number of Data Scientists using Python.'\n",
    "for column in list(dt.columns):\n",
    "    if purpose in column or upgrade in column or framework in column or technology in column or cloud in column or ide in column or job in column or often in column or question in column:\n",
    "        dt.drop(column, inplace=True, axis=1)\n",
    "more_columns_to_drop = [ 'How often do you use your main editor?', 'Are you missing any features in your main editor?', 'How likely is it that you would recommend your main editor to a friend or colleague?', 'Most of the time, do you...?', 'How many people are in your project team?', 'What is your employment status?', \"Choose one from the list::Which of the following industries best describes your company's business?\", 'Choose one from the list::Which of the following industries do you develop for?', 'How long have you been working in the IT industry?','What do you use Python for the most?', 'Which version of Python do you use the most?', 'What is the main editor you use for your current Python development?','How did you first learn about your main editor?', 'Could you tell us your age range?']\n",
    "dt.drop(more_columns_to_drop, inplace=True, axis=1)"
   ]
  },
  {
   "cell_type": "code",
   "execution_count": 4,
   "metadata": {
    "scrolled": false
   },
   "outputs": [],
   "source": [
    "def clean_columns(column):\n",
    "    languages = 'What other language(s) do you use?'\n",
    "    if languages in column:\n",
    "        return column.replace(' - Write In', '').replace(languages, '').replace(':', '').lower()\n",
    "    else:\n",
    "        return column\n",
    "dt.columns = list(map(clean_columns, list(dt.columns)))\n",
    "dt.rename(columns={'none':'python'}, inplace=True)"
   ]
  },
  {
   "cell_type": "code",
   "execution_count": 5,
   "metadata": {},
   "outputs": [],
   "source": [
    "false_answer = 'No, I don’t use Python for my current projects'\n",
    "dt['main_language'] = dt['main_language'].apply(lambda x: False if x == false_answer else True)"
   ]
  },
  {
   "cell_type": "code",
   "execution_count": 6,
   "metadata": {},
   "outputs": [],
   "source": [
    "def multiple_projects(value):\n",
    "    if value == 'No,  I only work on one project':\n",
    "        return 'one'\n",
    "    elif value == 'Yes, I work on one main and several side projects':\n",
    "        return 'several'\n",
    "    elif value == 'Yes, I work on many different projects':\n",
    "        return 'multiple'\n",
    "    else:\n",
    "        return 'several'\n",
    "dt.fillna(False, inplace=True)\n",
    "dt['country'] = dt['country'].apply(lambda x: 'Other' if not x else x)\n",
    "dt['multiple'] = dt['multiple'].apply(multiple_projects)\n",
    "dt['multiple'] = dt['multiple'].astype('category')\n",
    "dt['country'] = dt['country'].astype('category')"
   ]
  },
  {
   "cell_type": "code",
   "execution_count": 7,
   "metadata": {},
   "outputs": [],
   "source": [
    "static = ('Java', 'C#', 'C/C++', 'Objective-C', 'Go', 'Scala', 'SQL', 'Kotlin', 'Swift', 'Rust', 'TypeScript')\n",
    "dynamic = ('JavaScript', 'PHP', 'Ruby', 'Bash / Shell', 'Visual Basic', 'R', 'Clojure', 'Perl', 'Groovy', 'CoffeeScript')\n",
    "other = ('HTML', 'CSS', 'Other')"
   ]
  },
  {
   "cell_type": "markdown",
   "metadata": {},
   "source": [
    "# Results\n",
    "\n",
    "## How many people have filled the survey?"
   ]
  },
  {
   "cell_type": "code",
   "execution_count": 8,
   "metadata": {},
   "outputs": [
    {
     "name": "stdout",
     "output_type": "stream",
     "text": [
      "Survey was filled by 9506 respondents.\n"
     ]
    }
   ],
   "source": [
    "print('Survey was filled by', dt.shape[0], 'respondents.')"
   ]
  },
  {
   "cell_type": "markdown",
   "metadata": {},
   "source": [
    "## How many of them use Python in any project?"
   ]
  },
  {
   "cell_type": "code",
   "execution_count": 9,
   "metadata": {},
   "outputs": [
    {
     "name": "stdout",
     "output_type": "stream",
     "text": [
      "8112 respondents use python in their project.\n"
     ]
    }
   ],
   "source": [
    "dt_py = dt[dt['main_language']]\n",
    "print(dt_py.shape[0], 'respondents use python in their project.')"
   ]
  },
  {
   "cell_type": "markdown",
   "metadata": {},
   "source": [
    "## How many Pythonist from CZ and SK filled the survey?"
   ]
  },
  {
   "cell_type": "code",
   "execution_count": 10,
   "metadata": {
    "scrolled": false
   },
   "outputs": [
    {
     "name": "stdout",
     "output_type": "stream",
     "text": [
      "Survey was filled by 59 respondents from Czech Republic.\n",
      "Survey was filled by 30 respondents from Slovakia.\n"
     ]
    }
   ],
   "source": [
    "print('Survey was filled by', dt_py.loc[dt_py['country'] == 'Czech Republic'].shape[0], 'respondents from Czech Republic.')\n",
    "print('Survey was filled by', dt_py.loc[dt_py['country'] == 'Slovakia'].shape[0], 'respondents from Slovakia.')"
   ]
  },
  {
   "cell_type": "markdown",
   "metadata": {},
   "source": [
    "## How many Pythonist use statically typed languages?"
   ]
  },
  {
   "cell_type": "code",
   "execution_count": 11,
   "metadata": {},
   "outputs": [
    {
     "name": "stdout",
     "output_type": "stream",
     "text": [
      "6129 of respondents use staticly typed languages.\n"
     ]
    }
   ],
   "source": [
    "total_static = set()\n",
    "for lan in static:\n",
    "    total_static.update(list(dt_py[dt_py[lan.lower()].apply(lambda x: True if x else x)].index))\n",
    "print(len(total_static), 'of respondents use staticly typed languages.')"
   ]
  },
  {
   "cell_type": "markdown",
   "metadata": {},
   "source": [
    "## How many Pythonist use dynamically typed languages?"
   ]
  },
  {
   "cell_type": "code",
   "execution_count": 12,
   "metadata": {},
   "outputs": [
    {
     "name": "stdout",
     "output_type": "stream",
     "text": [
      "5899 of respondents use dynamicali typed languages.\n"
     ]
    }
   ],
   "source": [
    "total_dynamic = set()\n",
    "for lan in dynamic:\n",
    "    total_dynamic.update(list(dt_py[dt_py[lan.lower()].apply(lambda x: True if x else x)].index))\n",
    "print(len(total_dynamic), 'of respondents use dynamicali typed languages.')"
   ]
  },
  {
   "cell_type": "markdown",
   "metadata": {},
   "source": [
    "## How many Pythonist use statically typed and dynamically typed languages?"
   ]
  },
  {
   "cell_type": "code",
   "execution_count": 13,
   "metadata": {},
   "outputs": [
    {
     "name": "stdout",
     "output_type": "stream",
     "text": [
      "4665 of respondents use dynamicali and staticaly typed languages.\n"
     ]
    }
   ],
   "source": [
    "total_both = set()\n",
    "for d_lan in dynamic:\n",
    "    for s_lan in static: \n",
    "        total_both.update(list(dt_py[dt_py[d_lan.lower()].apply(lambda x: True if x else x) & \n",
    "                                     dt_py[s_lan.lower()].apply(lambda x: True if x else x)].index))\n",
    "print(len(total_both), 'of respondents use dynamicali and staticaly typed languages.')"
   ]
  },
  {
   "cell_type": "markdown",
   "metadata": {},
   "source": [
    "### preparation for graphs"
   ]
  },
  {
   "cell_type": "code",
   "execution_count": 14,
   "metadata": {},
   "outputs": [],
   "source": [
    "dt_py_one = dt_py.loc[dt_py['multiple'] == 'one']\n",
    "dt_py_several = dt_py.loc[dt_py['multiple'] == 'several']\n",
    "dt_py_multiple = dt_py.loc[dt_py['multiple'] == 'multiple']"
   ]
  },
  {
   "cell_type": "code",
   "execution_count": 15,
   "metadata": {},
   "outputs": [],
   "source": [
    "total_one = {}\n",
    "for lan in dynamic + static:\n",
    "    total_one[lan] = len((list(dt_py_one[dt_py_one[lan.lower()].apply(lambda x: True if x else x)].index))) / dt_py.shape[0]"
   ]
  },
  {
   "cell_type": "code",
   "execution_count": 16,
   "metadata": {},
   "outputs": [],
   "source": [
    "total_several = {}\n",
    "for lan in dynamic + static:\n",
    "    total_several[lan] = len((list(dt_py_several[dt_py_several[lan.lower()].apply(lambda x: True if x else x)].index))) / dt_py.shape[0]"
   ]
  },
  {
   "cell_type": "code",
   "execution_count": 17,
   "metadata": {},
   "outputs": [],
   "source": [
    "total_multiple = {}\n",
    "for lan in dynamic + static:\n",
    "    total_multiple[lan] = len((list(dt_py_multiple[dt_py_multiple[lan.lower()].apply(lambda x: True if x else x)].index))) / dt_py.shape[0]"
   ]
  },
  {
   "cell_type": "code",
   "execution_count": 18,
   "metadata": {},
   "outputs": [],
   "source": [
    "work = {'one': total_one, 'several': total_several, 'multiple': total_multiple}"
   ]
  },
  {
   "cell_type": "code",
   "execution_count": 19,
   "metadata": {},
   "outputs": [
    {
     "data": {
      "text/plain": [
       "<matplotlib.axes._subplots.AxesSubplot at 0x7fb8f81a7470>"
      ]
     },
     "execution_count": 19,
     "metadata": {},
     "output_type": "execute_result"
    },
    {
     "data": {
      "image/png": "[encoded data removed]",
      "text/plain": [
       "<Figure size 1152x576 with 1 Axes>"
      ]
     },
     "metadata": {
      "needs_background": "light"
     },
     "output_type": "display_data"
    }
   ],
   "source": [
    "pd.DataFrame.from_dict(work).plot.bar(figsize=(16,8))"
   ]
  },
  {
   "cell_type": "code",
   "execution_count": null,
   "metadata": {},
   "outputs": [],
   "source": []
  }
 ],
 "metadata": {
  "kernelspec": {
   "display_name": "Python 3",
   "language": "python",
   "name": "python3"
  },
  "language_info": {
   "codemirror_mode": {
    "name": "ipython",
    "version": 3
   },
   "file_extension": ".py",
   "mimetype": "text/x-python",
   "name": "python",
   "nbconvert_exporter": "python",
   "pygments_lexer": "ipython3",
   "version": "3.6.6"
  }
 },
 "nbformat": 4,
 "nbformat_minor": 2
}
